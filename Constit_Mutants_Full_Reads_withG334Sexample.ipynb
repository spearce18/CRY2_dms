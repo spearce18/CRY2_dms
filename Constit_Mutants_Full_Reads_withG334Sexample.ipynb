{
 "cells": [
  {
   "cell_type": "code",
   "execution_count": 3,
   "metadata": {},
   "outputs": [],
   "source": [
    "import numpy as np\n",
    "import pandas as pd\n",
    "\n",
    "# Seaborn settings\n",
    "import seaborn as sns\n",
    "rc={'lines.linewidth': 2, 'axes.labelsize': 14, 'axes.titlesize': 14}\n",
    "sns.set(rc=rc)\n",
    "\n",
    "# Make Matplotlib plots appear inline\n",
    "%matplotlib inline\n",
    "\n",
    "from numpy.linalg import inv\n",
    "import matplotlib.pyplot as plt\n",
    "%matplotlib inline\n",
    "import bokeh\n",
    "# bokeh.io.output_notebook()"
   ]
  },
  {
   "cell_type": "code",
   "execution_count": 4,
   "metadata": {},
   "outputs": [],
   "source": [
    "import Bio"
   ]
  },
  {
   "cell_type": "code",
   "execution_count": 5,
   "metadata": {},
   "outputs": [],
   "source": [
    "# import biopython stuff \n",
    "from Bio.Seq import Seq\n",
    "from Bio.Blast import NCBIWWW\n",
    "from Bio.Blast import NCBIXML\n",
    "#from Bio import SearchIO"
   ]
  },
  {
   "cell_type": "markdown",
   "metadata": {},
   "source": [
    "### Making an example converting fasta entries (already QCd and joined) to a dataframe we can manipulate. Looking at a small file first to test it works (100,000 reads)."
   ]
  },
  {
   "cell_type": "code",
   "execution_count": 6,
   "metadata": {},
   "outputs": [],
   "source": [
    "from Bio import SeqIO \n",
    "\n",
    "def fastq_to_dataframe(file_name):\n",
    "    \"takes in fastq filename as string and puts sequences into pandas dataframe; show first 10 lines to confirm it looks good\"\n",
    "    seqs = []\n",
    "    for seq_record in SeqIO.parse(file_name, \"fastq\"):\n",
    "        info = [seq_record.id, seq_record.seq]\n",
    "        seqs.append(info)\n",
    "    df_seqs = pd.DataFrame(seqs, columns = ['ID','DNA_seq'])\n",
    "    \n",
    "    return df_seqs"
   ]
  },
  {
   "cell_type": "markdown",
   "metadata": {},
   "source": [
    "Manually making the dataframe with the 100,000 read file."
   ]
  },
  {
   "cell_type": "code",
   "execution_count": 11,
   "metadata": {},
   "outputs": [
    {
     "data": {
      "text/plain": [
       "100000"
      ]
     },
     "execution_count": 11,
     "metadata": {},
     "output_type": "execute_result"
    }
   ],
   "source": [
    "seqs = []\n",
    "for seq_record in SeqIO.parse(\"subsample_joined.fastq\", \"fastq\"):\n",
    "    info = [seq_record.id, seq_record.seq]\n",
    "    seqs.append(info)\n",
    "df_seqs = pd.DataFrame(seqs, columns = ['ID','DNA_seq'])\n",
    "\n",
    "#check it's all there\n",
    "len(df_seqs)"
   ]
  },
  {
   "cell_type": "code",
   "execution_count": 12,
   "metadata": {},
   "outputs": [
    {
     "data": {
      "text/html": [
       "<div>\n",
       "<style scoped>\n",
       "    .dataframe tbody tr th:only-of-type {\n",
       "        vertical-align: middle;\n",
       "    }\n",
       "\n",
       "    .dataframe tbody tr th {\n",
       "        vertical-align: top;\n",
       "    }\n",
       "\n",
       "    .dataframe thead th {\n",
       "        text-align: right;\n",
       "    }\n",
       "</style>\n",
       "<table border=\"1\" class=\"dataframe\">\n",
       "  <thead>\n",
       "    <tr style=\"text-align: right;\">\n",
       "      <th></th>\n",
       "      <th>ID</th>\n",
       "      <th>DNA_seq</th>\n",
       "    </tr>\n",
       "  </thead>\n",
       "  <tbody>\n",
       "    <tr>\n",
       "      <th>0</th>\n",
       "      <td>A00405:272:HJ7FVDSXY:3:2678:9588:8891</td>\n",
       "      <td>(G, A, G, T, C, A, T, C, T, T, C, G, G, T, T, ...</td>\n",
       "    </tr>\n",
       "    <tr>\n",
       "      <th>1</th>\n",
       "      <td>A00405:272:HJ7FVDSXY:3:2678:9543:33019</td>\n",
       "      <td>(G, A, G, T, C, A, T, C, T, T, C, G, G, T, T, ...</td>\n",
       "    </tr>\n",
       "    <tr>\n",
       "      <th>2</th>\n",
       "      <td>A00405:272:HJ7FVDSXY:3:2678:9164:21684</td>\n",
       "      <td>(G, A, G, T, C, A, T, C, T, T, C, G, G, T, T, ...</td>\n",
       "    </tr>\n",
       "    <tr>\n",
       "      <th>3</th>\n",
       "      <td>A00405:272:HJ7FVDSXY:3:2678:8350:16454</td>\n",
       "      <td>(G, A, G, T, C, A, T, C, T, T, C, G, G, T, T, ...</td>\n",
       "    </tr>\n",
       "    <tr>\n",
       "      <th>4</th>\n",
       "      <td>A00405:272:HJ7FVDSXY:3:2678:8305:31407</td>\n",
       "      <td>(G, A, G, T, C, A, T, C, T, T, C, G, G, T, T, ...</td>\n",
       "    </tr>\n",
       "  </tbody>\n",
       "</table>\n",
       "</div>"
      ],
      "text/plain": [
       "                                       ID  \\\n",
       "0   A00405:272:HJ7FVDSXY:3:2678:9588:8891   \n",
       "1  A00405:272:HJ7FVDSXY:3:2678:9543:33019   \n",
       "2  A00405:272:HJ7FVDSXY:3:2678:9164:21684   \n",
       "3  A00405:272:HJ7FVDSXY:3:2678:8350:16454   \n",
       "4  A00405:272:HJ7FVDSXY:3:2678:8305:31407   \n",
       "\n",
       "                                             DNA_seq  \n",
       "0  (G, A, G, T, C, A, T, C, T, T, C, G, G, T, T, ...  \n",
       "1  (G, A, G, T, C, A, T, C, T, T, C, G, G, T, T, ...  \n",
       "2  (G, A, G, T, C, A, T, C, T, T, C, G, G, T, T, ...  \n",
       "3  (G, A, G, T, C, A, T, C, T, T, C, G, G, T, T, ...  \n",
       "4  (G, A, G, T, C, A, T, C, T, T, C, G, G, T, T, ...  "
      ]
     },
     "execution_count": 12,
     "metadata": {},
     "output_type": "execute_result"
    }
   ],
   "source": [
    "df_seqs.head()"
   ]
  },
  {
   "cell_type": "markdown",
   "metadata": {},
   "source": [
    "### Great. Everything looks good. Now correct the reading frame and translate these. This takes some time for large files."
   ]
  },
  {
   "cell_type": "code",
   "execution_count": 14,
   "metadata": {
    "collapsed": true,
    "jupyter": {
     "outputs_hidden": true
    }
   },
   "outputs": [
    {
     "ename": "NameError",
     "evalue": "name 'df0' is not defined",
     "output_type": "error",
     "traceback": [
      "\u001b[1;31m---------------------------------------------------------------------------\u001b[0m",
      "\u001b[1;31mNameError\u001b[0m                                 Traceback (most recent call last)",
      "\u001b[1;32m<ipython-input-14-3e3f56c69e0e>\u001b[0m in \u001b[0;36m<module>\u001b[1;34m\u001b[0m\n\u001b[0;32m      5\u001b[0m     \u001b[0mdf\u001b[0m\u001b[1;33m[\u001b[0m\u001b[1;34m'DNA_seq'\u001b[0m\u001b[1;33m]\u001b[0m\u001b[1;33m[\u001b[0m\u001b[0mindex\u001b[0m\u001b[1;33m]\u001b[0m \u001b[1;33m=\u001b[0m \u001b[0mdf\u001b[0m\u001b[1;33m[\u001b[0m\u001b[1;34m'DNA_seq'\u001b[0m\u001b[1;33m]\u001b[0m\u001b[1;33m[\u001b[0m\u001b[0mindex\u001b[0m\u001b[1;33m]\u001b[0m\u001b[1;33m[\u001b[0m\u001b[1;36m1\u001b[0m\u001b[1;33m:\u001b[0m\u001b[1;33m]\u001b[0m\u001b[1;33m\u001b[0m\u001b[1;33m\u001b[0m\u001b[0m\n\u001b[0;32m      6\u001b[0m \u001b[1;33m\u001b[0m\u001b[0m\n\u001b[1;32m----> 7\u001b[1;33m \u001b[0mdf0\u001b[0m\u001b[1;33m[\u001b[0m\u001b[1;34m'DNA_seq'\u001b[0m\u001b[1;33m]\u001b[0m\u001b[1;33m[\u001b[0m\u001b[1;36m0\u001b[0m\u001b[1;33m]\u001b[0m\u001b[1;33m,\u001b[0m \u001b[0mdf\u001b[0m\u001b[1;33m[\u001b[0m\u001b[1;34m'DNA_seq'\u001b[0m\u001b[1;33m]\u001b[0m\u001b[1;33m[\u001b[0m\u001b[1;36m0\u001b[0m\u001b[1;33m]\u001b[0m \u001b[1;31m# pre, post (check it worked)\u001b[0m\u001b[1;33m\u001b[0m\u001b[1;33m\u001b[0m\u001b[0m\n\u001b[0m",
      "\u001b[1;31mNameError\u001b[0m: name 'df0' is not defined"
     ]
    }
   ],
   "source": [
    "#go through and delete first base to start @ correct reading frame for CRY\n",
    "df = df_seqs.copy()\n",
    "\n",
    "for index in df.index:\n",
    "    df['DNA_seq'][index] = df['DNA_seq'][index][1:]"
   ]
  },
  {
   "cell_type": "code",
   "execution_count": 15,
   "metadata": {},
   "outputs": [
    {
     "data": {
      "text/plain": [
       "(Seq('GAGTCATCTTCGGTTTTTCCCTTGGGATGCTGATGTTGATAAGTTCAAGGCCTG...ACA'),\n",
       " Seq('AGTCATCTTCGGTTTTTCCCTTGGGATGCTGATGTTGATAAGTTCAAGGCCTGG...ACA'))"
      ]
     },
     "execution_count": 15,
     "metadata": {},
     "output_type": "execute_result"
    }
   ],
   "source": [
    "df_seqs['DNA_seq'][0], df['DNA_seq'][0] # pre, post (check it worked)"
   ]
  },
  {
   "cell_type": "code",
   "execution_count": 17,
   "metadata": {},
   "outputs": [
    {
     "name": "stdout",
     "output_type": "stream",
     "text": [
      "SHLRFFPWDADVDKFKAWSQGRTGYPVVDAGMRELWATGWMHNRIRVIVSSFAVKFLLLPWKWGMKYFWDTLLDADLECDFLGWQYISGSIPDGHELDRLD\n"
     ]
    },
    {
     "name": "stderr",
     "output_type": "stream",
     "text": [
      "C:\\Users\\Sarah\\anaconda3\\lib\\site-packages\\Bio\\Seq.py:2334: BiopythonWarning: Partial codon, len(sequence) not a multiple of three. Explicitly trim the sequence or add trailing N before translation. This may become an error in future.\n",
      "  warnings.warn(\n"
     ]
    }
   ],
   "source": [
    "# We want to translate each sequence and append translated column to dataframe\n",
    "# First, test one and make sure it's translated correctly.\n",
    "seq0 = df['DNA_seq'][0]\n",
    "print(seq0.translate())"
   ]
  },
  {
   "cell_type": "code",
   "execution_count": 19,
   "metadata": {},
   "outputs": [
    {
     "data": {
      "text/plain": [
       "Seq('SHLRFFPWDADVDKFKAWRQGRTGYPLVDAGMRELWATGWMHNRIRVIVSSFAV...RLD')"
      ]
     },
     "execution_count": 19,
     "metadata": {},
     "output_type": "execute_result"
    }
   ],
   "source": [
    "refseq1 = Seq(\"agtcatcttcggtttttcccttgggatgctgatgttgataagttcaaggcctggagacaaggcaggaccggttatccgttggtggatgccggaatgagagagctttgggctaccggatggatgcataacagaataagagtgattgtttcaagctttgctgtgaagtttcttctccttccatggaaatggggaatgaagtatttctgggatacacttttggatgctgatttggaatgtgacatccttggctggcagtatatctctgggagtatccccgatggccacgagcttgatcgcttggaca\")\n",
    "refseq1.translate(), len(refseq1.translate())\n",
    "ref_aa_seq = refseq1.translate()\n",
    "ref_aa_seq"
   ]
  },
  {
   "cell_type": "markdown",
   "metadata": {},
   "source": [
    "CRY2(535) translated above lines up correctly with the translated mutagenized region, so now let's go through and translate all sequences and put the translated sequences in the dataframe."
   ]
  },
  {
   "cell_type": "code",
   "execution_count": 21,
   "metadata": {},
   "outputs": [],
   "source": [
    "# Declare a list that is to be converted into a column \n",
    "aa_seqs = []\n",
    "for index in df.index:\n",
    "    translated = df['DNA_seq'][index].translate() # they are already Seq objects\n",
    "    aa_seqs.insert(index, translated)\n",
    "df['aa_seq'] = aa_seqs # use 'aa_seq' as the column name and equate it to the list we just added to"
   ]
  },
  {
   "cell_type": "code",
   "execution_count": 22,
   "metadata": {},
   "outputs": [
    {
     "data": {
      "text/html": [
       "<div>\n",
       "<style scoped>\n",
       "    .dataframe tbody tr th:only-of-type {\n",
       "        vertical-align: middle;\n",
       "    }\n",
       "\n",
       "    .dataframe tbody tr th {\n",
       "        vertical-align: top;\n",
       "    }\n",
       "\n",
       "    .dataframe thead th {\n",
       "        text-align: right;\n",
       "    }\n",
       "</style>\n",
       "<table border=\"1\" class=\"dataframe\">\n",
       "  <thead>\n",
       "    <tr style=\"text-align: right;\">\n",
       "      <th></th>\n",
       "      <th>ID</th>\n",
       "      <th>DNA_seq</th>\n",
       "      <th>aa_seq</th>\n",
       "    </tr>\n",
       "  </thead>\n",
       "  <tbody>\n",
       "    <tr>\n",
       "      <th>0</th>\n",
       "      <td>A00405:272:HJ7FVDSXY:3:2678:9588:8891</td>\n",
       "      <td>(A, G, T, C, A, T, C, T, T, C, G, G, T, T, T, ...</td>\n",
       "      <td>(S, H, L, R, F, F, P, W, D, A, D, V, D, K, F, ...</td>\n",
       "    </tr>\n",
       "    <tr>\n",
       "      <th>1</th>\n",
       "      <td>A00405:272:HJ7FVDSXY:3:2678:9543:33019</td>\n",
       "      <td>(A, G, T, C, A, T, C, T, T, C, G, G, T, T, T, ...</td>\n",
       "      <td>(S, H, L, R, F, F, P, W, D, A, D, V, D, K, F, ...</td>\n",
       "    </tr>\n",
       "    <tr>\n",
       "      <th>2</th>\n",
       "      <td>A00405:272:HJ7FVDSXY:3:2678:9164:21684</td>\n",
       "      <td>(A, G, T, C, A, T, C, T, T, C, G, G, T, T, T, ...</td>\n",
       "      <td>(S, H, L, R, F, F, P, W, D, A, D, V, D, K, F, ...</td>\n",
       "    </tr>\n",
       "    <tr>\n",
       "      <th>3</th>\n",
       "      <td>A00405:272:HJ7FVDSXY:3:2678:8350:16454</td>\n",
       "      <td>(A, G, T, C, A, T, C, T, T, C, G, G, T, T, T, ...</td>\n",
       "      <td>(S, H, L, R, F, F, P, W, D, A, Y, V, D, K, F, ...</td>\n",
       "    </tr>\n",
       "    <tr>\n",
       "      <th>4</th>\n",
       "      <td>A00405:272:HJ7FVDSXY:3:2678:8305:31407</td>\n",
       "      <td>(A, G, T, C, A, T, C, T, T, C, G, G, T, T, T, ...</td>\n",
       "      <td>(S, H, L, R, F, F, P, W, D, A, D, V, D, K, F, ...</td>\n",
       "    </tr>\n",
       "  </tbody>\n",
       "</table>\n",
       "</div>"
      ],
      "text/plain": [
       "                                       ID  \\\n",
       "0   A00405:272:HJ7FVDSXY:3:2678:9588:8891   \n",
       "1  A00405:272:HJ7FVDSXY:3:2678:9543:33019   \n",
       "2  A00405:272:HJ7FVDSXY:3:2678:9164:21684   \n",
       "3  A00405:272:HJ7FVDSXY:3:2678:8350:16454   \n",
       "4  A00405:272:HJ7FVDSXY:3:2678:8305:31407   \n",
       "\n",
       "                                             DNA_seq  \\\n",
       "0  (A, G, T, C, A, T, C, T, T, C, G, G, T, T, T, ...   \n",
       "1  (A, G, T, C, A, T, C, T, T, C, G, G, T, T, T, ...   \n",
       "2  (A, G, T, C, A, T, C, T, T, C, G, G, T, T, T, ...   \n",
       "3  (A, G, T, C, A, T, C, T, T, C, G, G, T, T, T, ...   \n",
       "4  (A, G, T, C, A, T, C, T, T, C, G, G, T, T, T, ...   \n",
       "\n",
       "                                              aa_seq  \n",
       "0  (S, H, L, R, F, F, P, W, D, A, D, V, D, K, F, ...  \n",
       "1  (S, H, L, R, F, F, P, W, D, A, D, V, D, K, F, ...  \n",
       "2  (S, H, L, R, F, F, P, W, D, A, D, V, D, K, F, ...  \n",
       "3  (S, H, L, R, F, F, P, W, D, A, Y, V, D, K, F, ...  \n",
       "4  (S, H, L, R, F, F, P, W, D, A, D, V, D, K, F, ...  "
      ]
     },
     "execution_count": 22,
     "metadata": {},
     "output_type": "execute_result"
    }
   ],
   "source": [
    "df.head()"
   ]
  },
  {
   "cell_type": "code",
   "execution_count": 30,
   "metadata": {},
   "outputs": [],
   "source": [
    "df.to_csv('100000subsample_DNA_AA_seqs.csv')"
   ]
  },
  {
   "cell_type": "code",
   "execution_count": 23,
   "metadata": {},
   "outputs": [
    {
     "data": {
      "text/plain": [
       "(101, 101)"
      ]
     },
     "execution_count": 23,
     "metadata": {},
     "output_type": "execute_result"
    }
   ],
   "source": [
    "len(df['aa_seq'][0]), len(ref_aa_seq)\n",
    "\n",
    "# checking an example sequence in our dataframe matches the reference sequence length"
   ]
  },
  {
   "cell_type": "markdown",
   "metadata": {},
   "source": [
    "### Here we are making a new, trimmed down table with mutated sequences info only. An alternate option would be to add new columns to the old dataframe describing the mutations (or NA if wildtype sequence)."
   ]
  },
  {
   "cell_type": "code",
   "execution_count": 24,
   "metadata": {},
   "outputs": [],
   "source": [
    "data = []\n",
    "\n",
    "for index in df.index:\n",
    "    for i in range(0, len(ref_aa_seq)):\n",
    "        refaa = ref_aa_seq[i]\n",
    "        r1aa = df['aa_seq'][index][i]\n",
    "        ID = df['ID'][index]\n",
    "        if refaa != r1aa:\n",
    "            mutation_info = [ID, refaa, r1aa, i]\n",
    "            data.append(mutation_info)\n",
    "        \n",
    "df_mutations = pd.DataFrame(data, columns = ['read_ID', 'original_aa', 'mutated_aa', 'position'])"
   ]
  },
  {
   "cell_type": "code",
   "execution_count": 79,
   "metadata": {},
   "outputs": [
    {
     "data": {
      "text/plain": [
       "344090"
      ]
     },
     "execution_count": 79,
     "metadata": {},
     "output_type": "execute_result"
    }
   ],
   "source": [
    "len(df_mutations)"
   ]
  },
  {
   "cell_type": "code",
   "execution_count": 27,
   "metadata": {},
   "outputs": [
    {
     "data": {
      "text/html": [
       "<div>\n",
       "<style scoped>\n",
       "    .dataframe tbody tr th:only-of-type {\n",
       "        vertical-align: middle;\n",
       "    }\n",
       "\n",
       "    .dataframe tbody tr th {\n",
       "        vertical-align: top;\n",
       "    }\n",
       "\n",
       "    .dataframe thead th {\n",
       "        text-align: right;\n",
       "    }\n",
       "</style>\n",
       "<table border=\"1\" class=\"dataframe\">\n",
       "  <thead>\n",
       "    <tr style=\"text-align: right;\">\n",
       "      <th></th>\n",
       "      <th>read_ID</th>\n",
       "      <th>original_aa</th>\n",
       "      <th>mutated_aa</th>\n",
       "      <th>position</th>\n",
       "    </tr>\n",
       "  </thead>\n",
       "  <tbody>\n",
       "    <tr>\n",
       "      <th>0</th>\n",
       "      <td>A00405:272:HJ7FVDSXY:3:2678:9588:8891</td>\n",
       "      <td>R</td>\n",
       "      <td>S</td>\n",
       "      <td>18</td>\n",
       "    </tr>\n",
       "    <tr>\n",
       "      <th>1</th>\n",
       "      <td>A00405:272:HJ7FVDSXY:3:2678:9588:8891</td>\n",
       "      <td>L</td>\n",
       "      <td>V</td>\n",
       "      <td>26</td>\n",
       "    </tr>\n",
       "    <tr>\n",
       "      <th>2</th>\n",
       "      <td>A00405:272:HJ7FVDSXY:3:2678:9588:8891</td>\n",
       "      <td>I</td>\n",
       "      <td>F</td>\n",
       "      <td>80</td>\n",
       "    </tr>\n",
       "    <tr>\n",
       "      <th>3</th>\n",
       "      <td>A00405:272:HJ7FVDSXY:3:2678:9543:33019</td>\n",
       "      <td>K</td>\n",
       "      <td>E</td>\n",
       "      <td>61</td>\n",
       "    </tr>\n",
       "    <tr>\n",
       "      <th>4</th>\n",
       "      <td>A00405:272:HJ7FVDSXY:3:2678:9543:33019</td>\n",
       "      <td>I</td>\n",
       "      <td>V</td>\n",
       "      <td>80</td>\n",
       "    </tr>\n",
       "  </tbody>\n",
       "</table>\n",
       "</div>"
      ],
      "text/plain": [
       "                                  read_ID original_aa mutated_aa  position\n",
       "0   A00405:272:HJ7FVDSXY:3:2678:9588:8891           R          S        18\n",
       "1   A00405:272:HJ7FVDSXY:3:2678:9588:8891           L          V        26\n",
       "2   A00405:272:HJ7FVDSXY:3:2678:9588:8891           I          F        80\n",
       "3  A00405:272:HJ7FVDSXY:3:2678:9543:33019           K          E        61\n",
       "4  A00405:272:HJ7FVDSXY:3:2678:9543:33019           I          V        80"
      ]
     },
     "execution_count": 27,
     "metadata": {},
     "output_type": "execute_result"
    }
   ],
   "source": [
    "df_mutations.head()"
   ]
  },
  {
   "cell_type": "code",
   "execution_count": 29,
   "metadata": {},
   "outputs": [],
   "source": [
    "df_mutations.to_csv('100000subsample_all_mutations.csv')"
   ]
  },
  {
   "cell_type": "markdown",
   "metadata": {},
   "source": [
    "### Now make a table of single mutants only."
   ]
  },
  {
   "cell_type": "code",
   "execution_count": 59,
   "metadata": {},
   "outputs": [],
   "source": [
    "df_single = df_mutations.copy()"
   ]
  },
  {
   "cell_type": "code",
   "execution_count": 60,
   "metadata": {},
   "outputs": [],
   "source": [
    "# don't just go through by index. Go through by list of unique values in \"read_ID\"\n",
    "df_single = df_single[0:10004]\n",
    "for val in df_single.read_ID.unique(): #this makes a list of unique vals in this column\n",
    "    # go through each read and ask how many codon mutations are in the sequence\n",
    "    num_of_muts = len(df_single[df_single['read_ID'] == val])\n",
    "    #print(index, num_of_muts)\n",
    "    if num_of_muts > 1: # if there are more than 1, don't put it in the single mutants table\n",
    "        df_single = df_single[df_single.read_ID != val] # cuts out those with read_number = val"
   ]
  },
  {
   "cell_type": "code",
   "execution_count": 62,
   "metadata": {},
   "outputs": [],
   "source": [
    "df_single.to_csv('10000subsample_singlemuts.csv')"
   ]
  },
  {
   "cell_type": "code",
   "execution_count": 63,
   "metadata": {},
   "outputs": [],
   "source": [
    "df_double = df_mutations.copy()\n",
    "df_triple = df_mutations.copy()"
   ]
  },
  {
   "cell_type": "markdown",
   "metadata": {},
   "source": [
    "### Now make a table of double mutants only."
   ]
  },
  {
   "cell_type": "code",
   "execution_count": 64,
   "metadata": {},
   "outputs": [],
   "source": [
    "# don't just go through by index. Go through by list of unique values in \"read_ID\"\n",
    "df_double = df_double[0:10004]\n",
    "for val in df_double.read_ID.unique(): #this makes a list of unique vals in this column\n",
    "    # go through each read and ask how many codon mutations are in the sequence\n",
    "    num_of_muts = len(df_double[df_double['read_ID'] == val])\n",
    "    #print(index, num_of_muts)\n",
    "    if num_of_muts != 2: # if there are not exactly 2 mutations, don't put in the double mutant table\n",
    "        df_double = df_double[df_double.read_ID != val] # cuts out those with read_number = val"
   ]
  },
  {
   "cell_type": "code",
   "execution_count": 66,
   "metadata": {},
   "outputs": [],
   "source": [
    "df_double.to_csv('10000subsample_doublemuts.csv')"
   ]
  },
  {
   "cell_type": "markdown",
   "metadata": {},
   "source": [
    "### Now make a table of triple mutants only."
   ]
  },
  {
   "cell_type": "code",
   "execution_count": 65,
   "metadata": {},
   "outputs": [],
   "source": [
    "# don't just go through by index. Go through by list of unique values in \"read_ID\"\n",
    "df_triple = df_triple[0:10004]\n",
    "for val in df_triple.read_ID.unique(): #this makes a list of unique vals in this column\n",
    "    # go through each read and ask how many codon mutations are in the sequence\n",
    "    num_of_muts = len(df_triple[df_triple['read_ID'] == val])\n",
    "    #print(index, num_of_muts)\n",
    "    if num_of_muts != 3: # if there are not exactly 2 mutations, don't put in the double mutant table\n",
    "        df_triple = df_triple[df_triple.read_ID != val] # cuts out those with read_number = val"
   ]
  },
  {
   "cell_type": "code",
   "execution_count": 67,
   "metadata": {},
   "outputs": [],
   "source": [
    "df_triple.to_csv('10000subsample_triplemuts.csv')"
   ]
  },
  {
   "cell_type": "markdown",
   "metadata": {},
   "source": [
    "## Looking at some basic properties of the data:"
   ]
  },
  {
   "cell_type": "code",
   "execution_count": 99,
   "metadata": {},
   "outputs": [],
   "source": [
    "sing_perc = 100*len(df_single.read_ID.unique())/len(df_mutations[0:10004].read_ID.unique())\n",
    "doub_perc = 100*len(df_double.read_ID.unique())/len(df_mutations[0:10004].read_ID.unique())\n",
    "trip_perc = 100*len(df_triple.read_ID.unique())/len(df_mutations[0:10004].read_ID.unique())"
   ]
  },
  {
   "cell_type": "code",
   "execution_count": 362,
   "metadata": {},
   "outputs": [
    {
     "data": {
      "text/plain": [
       "(13905, 0, 1, 1, 344090)"
      ]
     },
     "execution_count": 362,
     "metadata": {},
     "output_type": "execute_result"
    }
   ],
   "source": [
    "G334 = df_mutations[df_mutations['position'] == 20]\n",
    "sG334 = df_single[df_single['position'] == 20]\n",
    "dG334 = df_double[df_double['position'] == 20]\n",
    "tG334 = df_triple[df_triple['position'] == 20]\n",
    "len(G334[G334['mutated_aa'] == 'S']), len(sG334[sG334['mutated_aa'] == 'S']), len(dG334[dG334['mutated_aa'] == 'S']), len(tG334[tG334['mutated_aa'] == 'S']), len(df_mutations)"
   ]
  },
  {
   "cell_type": "code",
   "execution_count": 379,
   "metadata": {},
   "outputs": [
    {
     "data": {
      "text/plain": [
       "91"
      ]
     },
     "execution_count": 379,
     "metadata": {},
     "output_type": "execute_result"
    }
   ],
   "source": [
    "G334 = df_mutations[40000:50000][df_mutations[40000:50000]['position'] == 20]\n",
    "len(G334[G334['mutated_aa'] == 'S'])"
   ]
  },
  {
   "cell_type": "code",
   "execution_count": 369,
   "metadata": {},
   "outputs": [
    {
     "data": {
      "text/html": [
       "<div>\n",
       "<style scoped>\n",
       "    .dataframe tbody tr th:only-of-type {\n",
       "        vertical-align: middle;\n",
       "    }\n",
       "\n",
       "    .dataframe tbody tr th {\n",
       "        vertical-align: top;\n",
       "    }\n",
       "\n",
       "    .dataframe thead th {\n",
       "        text-align: right;\n",
       "    }\n",
       "</style>\n",
       "<table border=\"1\" class=\"dataframe\">\n",
       "  <thead>\n",
       "    <tr style=\"text-align: right;\">\n",
       "      <th></th>\n",
       "      <th>read_ID</th>\n",
       "      <th>original_aa</th>\n",
       "      <th>mutated_aa</th>\n",
       "      <th>position</th>\n",
       "    </tr>\n",
       "  </thead>\n",
       "  <tbody>\n",
       "    <tr>\n",
       "      <th>908</th>\n",
       "      <td>A00405:272:HJ7FVDSXY:3:2673:18511:11506</td>\n",
       "      <td>G</td>\n",
       "      <td>S</td>\n",
       "      <td>20</td>\n",
       "    </tr>\n",
       "    <tr>\n",
       "      <th>909</th>\n",
       "      <td>A00405:272:HJ7FVDSXY:3:2673:18511:11506</td>\n",
       "      <td>I</td>\n",
       "      <td>F</td>\n",
       "      <td>80</td>\n",
       "    </tr>\n",
       "  </tbody>\n",
       "</table>\n",
       "</div>"
      ],
      "text/plain": [
       "                                     read_ID original_aa mutated_aa  position\n",
       "908  A00405:272:HJ7FVDSXY:3:2673:18511:11506           G          S        20\n",
       "909  A00405:272:HJ7FVDSXY:3:2673:18511:11506           I          F        80"
      ]
     },
     "execution_count": 369,
     "metadata": {},
     "output_type": "execute_result"
    }
   ],
   "source": [
    "df_double[df_double['read_ID'] == 'A00405:272:HJ7FVDSXY:3:2673:18511:11506']"
   ]
  },
  {
   "cell_type": "markdown",
   "metadata": {},
   "source": [
    "## Aside: where did G334S go? \n",
    "## Make a table showing all sequences that have at least one G334S mutation."
   ]
  },
  {
   "cell_type": "code",
   "execution_count": 385,
   "metadata": {},
   "outputs": [],
   "source": [
    "df_hasG334S = pd.DataFrame({\"read_ID\": [], \"original_aa\":[], \"mutated_aa\":[], \n",
    "                        \"position\": []})\n",
    "lst = []\n",
    "G334 = df_mutations[40000:50000][df_mutations[40000:50000]['position'] == 20]\n",
    "for ID in G334[G334['mutated_aa'] == 'S'].read_ID: # get list of IDs so we can see what else is going on at these sites\n",
    "    df_to_add = df_mutations[40000:50000][df_mutations[40000:50000]['read_ID'] == ID]\n",
    "    lst.append(len(df_to_add))\n",
    "    df_hasG334S = df_hasG334S.append(df_to_add)\n",
    "    \n",
    "df_hasG334S = df_hasG334S.reset_index(drop=True) "
   ]
  },
  {
   "cell_type": "markdown",
   "metadata": {},
   "source": [
    "Here, we're looking at a 10,000 subset of sequences that came back as having 91 sequences with the G334S mutation. All of these have at least one other mutation present. Let's look at what these are..."
   ]
  },
  {
   "cell_type": "code",
   "execution_count": 387,
   "metadata": {},
   "outputs": [
    {
     "name": "stdout",
     "output_type": "stream",
     "text": [
      "[24, 4, 3, 3, 2, 2, 2, 2, 2, 2, 2, 2, 2, 2, 39, 3, 4, 2, 4, 2, 2, 4, 4, 1, 2, 3, 3, 3, 3, 3, 1, 2, 4, 2, 1, 8, 3, 5, 3, 3, 6, 6, 6, 2, 2, 4, 4, 3, 4, 3, 2, 1, 2, 1, 5, 4, 3, 5, 5, 4, 2, 4, 2, 3, 3, 2, 4, 5, 4, 4, 3, 4, 2, 3, 3, 2, 4, 3, 3, 2, 4, 2, 2, 3, 4, 2, 3, 2, 1, 3, 16]\n"
     ]
    }
   ],
   "source": [
    "print(lst) # shows number of mutations in each sequence with the G334S\n",
    "# we may want to filter this dataset--24 mutations is probably a bad read.\n",
    "\n",
    "# just ask for most co-occuring mutation next..."
   ]
  },
  {
   "cell_type": "code",
   "execution_count": 389,
   "metadata": {},
   "outputs": [
    {
     "data": {
      "text/html": [
       "<div>\n",
       "<style scoped>\n",
       "    .dataframe tbody tr th:only-of-type {\n",
       "        vertical-align: middle;\n",
       "    }\n",
       "\n",
       "    .dataframe tbody tr th {\n",
       "        vertical-align: top;\n",
       "    }\n",
       "\n",
       "    .dataframe thead th {\n",
       "        text-align: right;\n",
       "    }\n",
       "</style>\n",
       "<table border=\"1\" class=\"dataframe\">\n",
       "  <thead>\n",
       "    <tr style=\"text-align: right;\">\n",
       "      <th></th>\n",
       "      <th>read_ID</th>\n",
       "      <th>original_aa</th>\n",
       "      <th>mutated_aa</th>\n",
       "      <th>position</th>\n",
       "    </tr>\n",
       "  </thead>\n",
       "  <tbody>\n",
       "    <tr>\n",
       "      <th>0</th>\n",
       "      <td>A00405:272:HJ7FVDSXY:3:2519:16016:25880</td>\n",
       "      <td>A</td>\n",
       "      <td>D</td>\n",
       "      <td>9.0</td>\n",
       "    </tr>\n",
       "    <tr>\n",
       "      <th>1</th>\n",
       "      <td>A00405:272:HJ7FVDSXY:3:2519:16016:25880</td>\n",
       "      <td>K</td>\n",
       "      <td>R</td>\n",
       "      <td>13.0</td>\n",
       "    </tr>\n",
       "    <tr>\n",
       "      <th>2</th>\n",
       "      <td>A00405:272:HJ7FVDSXY:3:2519:16016:25880</td>\n",
       "      <td>G</td>\n",
       "      <td>S</td>\n",
       "      <td>20.0</td>\n",
       "    </tr>\n",
       "    <tr>\n",
       "      <th>3</th>\n",
       "      <td>A00405:272:HJ7FVDSXY:3:2519:16016:25880</td>\n",
       "      <td>Y</td>\n",
       "      <td>K</td>\n",
       "      <td>24.0</td>\n",
       "    </tr>\n",
       "    <tr>\n",
       "      <th>4</th>\n",
       "      <td>A00405:272:HJ7FVDSXY:3:2519:16016:25880</td>\n",
       "      <td>M</td>\n",
       "      <td>L</td>\n",
       "      <td>40.0</td>\n",
       "    </tr>\n",
       "  </tbody>\n",
       "</table>\n",
       "</div>"
      ],
      "text/plain": [
       "                                   read_ID original_aa mutated_aa  position\n",
       "0  A00405:272:HJ7FVDSXY:3:2519:16016:25880           A          D       9.0\n",
       "1  A00405:272:HJ7FVDSXY:3:2519:16016:25880           K          R      13.0\n",
       "2  A00405:272:HJ7FVDSXY:3:2519:16016:25880           G          S      20.0\n",
       "3  A00405:272:HJ7FVDSXY:3:2519:16016:25880           Y          K      24.0\n",
       "4  A00405:272:HJ7FVDSXY:3:2519:16016:25880           M          L      40.0"
      ]
     },
     "execution_count": 389,
     "metadata": {},
     "output_type": "execute_result"
    }
   ],
   "source": [
    "df_hasG334S.head()"
   ]
  },
  {
   "cell_type": "code",
   "execution_count": 394,
   "metadata": {},
   "outputs": [],
   "source": [
    "# Creating the first Dataframe using dictionary \n",
    "df_counts334 = df = pd.DataFrame({\"mutated_aa\":[], \n",
    "                         \"count\":[], \n",
    "                        \"position\": []})\n",
    "sorted_positions = df_hasG334S['position'].unique()\n",
    "sorted_positions.sort() # makes sure it orders from low to high amino acid position (useful for plotting later)\n",
    "for pos in sorted_positions: # get array of all unique positions that have amino acid substitutions\n",
    "    df_count = df_hasG334S[df_hasG334S['position'] == pos]['mutated_aa'].value_counts().reset_index()\n",
    "    df_count.columns = ['mutated_aa','count']\n",
    "    position = []\n",
    "    for index in df_count.index:\n",
    "        position.insert(index, str(pos))\n",
    "    df_count['position'] = position\n",
    "    df_counts334 = df_counts334.append(df_count)\n",
    "df_counts334 = df_counts334.reset_index(drop=True) "
   ]
  },
  {
   "cell_type": "code",
   "execution_count": 404,
   "metadata": {},
   "outputs": [
    {
     "data": {
      "text/html": [
       "<div>\n",
       "<style scoped>\n",
       "    .dataframe tbody tr th:only-of-type {\n",
       "        vertical-align: middle;\n",
       "    }\n",
       "\n",
       "    .dataframe tbody tr th {\n",
       "        vertical-align: top;\n",
       "    }\n",
       "\n",
       "    .dataframe thead th {\n",
       "        text-align: right;\n",
       "    }\n",
       "</style>\n",
       "<table border=\"1\" class=\"dataframe\">\n",
       "  <thead>\n",
       "    <tr style=\"text-align: right;\">\n",
       "      <th></th>\n",
       "      <th>mutated_aa</th>\n",
       "      <th>count</th>\n",
       "      <th>position</th>\n",
       "    </tr>\n",
       "  </thead>\n",
       "  <tbody>\n",
       "    <tr>\n",
       "      <th>140</th>\n",
       "      <td>Q</td>\n",
       "      <td>1.0</td>\n",
       "      <td>81.0</td>\n",
       "    </tr>\n",
       "    <tr>\n",
       "      <th>141</th>\n",
       "      <td>W</td>\n",
       "      <td>1.0</td>\n",
       "      <td>82.0</td>\n",
       "    </tr>\n",
       "    <tr>\n",
       "      <th>142</th>\n",
       "      <td>L</td>\n",
       "      <td>1.0</td>\n",
       "      <td>83.0</td>\n",
       "    </tr>\n",
       "    <tr>\n",
       "      <th>143</th>\n",
       "      <td>R</td>\n",
       "      <td>9.0</td>\n",
       "      <td>84.0</td>\n",
       "    </tr>\n",
       "    <tr>\n",
       "      <th>144</th>\n",
       "      <td>L</td>\n",
       "      <td>1.0</td>\n",
       "      <td>84.0</td>\n",
       "    </tr>\n",
       "  </tbody>\n",
       "</table>\n",
       "</div>"
      ],
      "text/plain": [
       "    mutated_aa  count position\n",
       "140          Q    1.0     81.0\n",
       "141          W    1.0     82.0\n",
       "142          L    1.0     83.0\n",
       "143          R    9.0     84.0\n",
       "144          L    1.0     84.0"
      ]
     },
     "execution_count": 404,
     "metadata": {},
     "output_type": "execute_result"
    }
   ],
   "source": [
    "df_counts334[140:145]"
   ]
  },
  {
   "cell_type": "markdown",
   "metadata": {},
   "source": [
    "### Shows that it occurs most with Q398R (index 143 above), but no other patterns observed so far...\n",
    "\n",
    "#### More specifically, in this 10,000 sequence sample, 10% of the time the G334S mutation co-occurs with the Q398R mutation, and this is the most common co-occurance."
   ]
  },
  {
   "cell_type": "markdown",
   "metadata": {},
   "source": [
    "## Back to original dataset looking at all mutations and separating by single, double, triple..."
   ]
  },
  {
   "cell_type": "code",
   "execution_count": 354,
   "metadata": {},
   "outputs": [
    {
     "name": "stdout",
     "output_type": "stream",
     "text": [
      "In this randomly selected 10,000 sequence subsample...\n",
      " \n",
      "# mutated sequences: 3056\n",
      " \n",
      "# single mutants: 1112 (36.4%)\n",
      "# double mutants: 934 (30.6%)\n",
      "# triple mutants: 487 (15.9%)\n",
      " \n",
      "# single L348F mutants: 212\n",
      "# double L348F mutants: 88\n",
      "# triple L348F mutants: 52\n"
     ]
    }
   ],
   "source": [
    "print('In this randomly selected 10,000 sequence subsample...')\n",
    "print(' ')\n",
    "print('# mutated sequences:', len(df_mutations[0:10004].read_ID.unique()))\n",
    "print(' ')\n",
    "print('# single mutants:', len(df_single.read_ID.unique()), '(%.1f%%)' % sing_perc)\n",
    "print('# double mutants:', len(df_double.read_ID.unique()), '(%.1f%%)' % doub_perc)\n",
    "print('# triple mutants:', len(df_triple.read_ID.unique()), '(%.1f%%)' % trip_perc)\n",
    "print(' ')\n",
    "print('# single L348F mutants:', len(df_single[df_single['position'] == 34]))\n",
    "print('# double L348F mutants:', len(df_double[df_double['position'] == 34]))\n",
    "print('# triple L348F mutants:', len(df_triple[df_triple['position'] == 34]))"
   ]
  },
  {
   "cell_type": "markdown",
   "metadata": {},
   "source": [
    "### Now, make sure amino acid position is indexed properly (matches CRY2)."
   ]
  },
  {
   "cell_type": "code",
   "execution_count": 104,
   "metadata": {},
   "outputs": [
    {
     "name": "stderr",
     "output_type": "stream",
     "text": [
      "<ipython-input-104-a7ca5fbb3e61>:5: SettingWithCopyWarning: \n",
      "A value is trying to be set on a copy of a slice from a DataFrame\n",
      "\n",
      "See the caveats in the documentation: https://pandas.pydata.org/pandas-docs/stable/user_guide/indexing.html#returning-a-view-versus-a-copy\n",
      "  df_single_indexed['position'][index] = new_index\n"
     ]
    }
   ],
   "source": [
    "# change indexing to match CRY2\n",
    "df_single_indexed = df_single.copy()\n",
    "for index in df_single_indexed.index:\n",
    "    new_index = df_single_indexed['position'][index] + 314\n",
    "    df_single_indexed['position'][index] = new_index"
   ]
  },
  {
   "cell_type": "code",
   "execution_count": 107,
   "metadata": {},
   "outputs": [
    {
     "name": "stderr",
     "output_type": "stream",
     "text": [
      "<ipython-input-107-503613174459>:5: SettingWithCopyWarning: \n",
      "A value is trying to be set on a copy of a slice from a DataFrame\n",
      "\n",
      "See the caveats in the documentation: https://pandas.pydata.org/pandas-docs/stable/user_guide/indexing.html#returning-a-view-versus-a-copy\n",
      "  df_double_indexed['position'][index] = new_index\n"
     ]
    }
   ],
   "source": [
    "# change indexing to match CRY2\n",
    "df_double_indexed = df_double.copy()\n",
    "for index in df_double_indexed.index:\n",
    "    new_index = df_double_indexed['position'][index] + 314\n",
    "    df_double_indexed['position'][index] = new_index"
   ]
  },
  {
   "cell_type": "code",
   "execution_count": 108,
   "metadata": {},
   "outputs": [
    {
     "name": "stderr",
     "output_type": "stream",
     "text": [
      "<ipython-input-108-5c3c8bb0b857>:5: SettingWithCopyWarning: \n",
      "A value is trying to be set on a copy of a slice from a DataFrame\n",
      "\n",
      "See the caveats in the documentation: https://pandas.pydata.org/pandas-docs/stable/user_guide/indexing.html#returning-a-view-versus-a-copy\n",
      "  df_triple_indexed['position'][index] = new_index\n"
     ]
    }
   ],
   "source": [
    "# change indexing to match CRY2\n",
    "df_triple_indexed = df_triple.copy()\n",
    "for index in df_triple_indexed.index:\n",
    "    new_index = df_triple_indexed['position'][index] + 314\n",
    "    df_triple_indexed['position'][index] = new_index"
   ]
  },
  {
   "cell_type": "code",
   "execution_count": 111,
   "metadata": {},
   "outputs": [
    {
     "data": {
      "text/html": [
       "<div>\n",
       "<style scoped>\n",
       "    .dataframe tbody tr th:only-of-type {\n",
       "        vertical-align: middle;\n",
       "    }\n",
       "\n",
       "    .dataframe tbody tr th {\n",
       "        vertical-align: top;\n",
       "    }\n",
       "\n",
       "    .dataframe thead th {\n",
       "        text-align: right;\n",
       "    }\n",
       "</style>\n",
       "<table border=\"1\" class=\"dataframe\">\n",
       "  <thead>\n",
       "    <tr style=\"text-align: right;\">\n",
       "      <th></th>\n",
       "      <th>read_ID</th>\n",
       "      <th>original_aa</th>\n",
       "      <th>mutated_aa</th>\n",
       "      <th>position</th>\n",
       "    </tr>\n",
       "  </thead>\n",
       "  <tbody>\n",
       "    <tr>\n",
       "      <th>5</th>\n",
       "      <td>A00405:272:HJ7FVDSXY:3:2678:9164:21684</td>\n",
       "      <td>Q</td>\n",
       "      <td>R</td>\n",
       "      <td>398</td>\n",
       "    </tr>\n",
       "    <tr>\n",
       "      <th>10</th>\n",
       "      <td>A00405:272:HJ7FVDSXY:3:2678:8250:31407</td>\n",
       "      <td>K</td>\n",
       "      <td>E</td>\n",
       "      <td>368</td>\n",
       "    </tr>\n",
       "    <tr>\n",
       "      <th>26</th>\n",
       "      <td>A00405:272:HJ7FVDSXY:3:2678:4824:9126</td>\n",
       "      <td>K</td>\n",
       "      <td>E</td>\n",
       "      <td>368</td>\n",
       "    </tr>\n",
       "    <tr>\n",
       "      <th>89</th>\n",
       "      <td>A00405:272:HJ7FVDSXY:3:2678:27245:25003</td>\n",
       "      <td>L</td>\n",
       "      <td>H</td>\n",
       "      <td>371</td>\n",
       "    </tr>\n",
       "    <tr>\n",
       "      <th>90</th>\n",
       "      <td>A00405:272:HJ7FVDSXY:3:2678:25183:23218</td>\n",
       "      <td>Q</td>\n",
       "      <td>R</td>\n",
       "      <td>398</td>\n",
       "    </tr>\n",
       "  </tbody>\n",
       "</table>\n",
       "</div>"
      ],
      "text/plain": [
       "                                    read_ID original_aa mutated_aa  position\n",
       "5    A00405:272:HJ7FVDSXY:3:2678:9164:21684           Q          R       398\n",
       "10   A00405:272:HJ7FVDSXY:3:2678:8250:31407           K          E       368\n",
       "26    A00405:272:HJ7FVDSXY:3:2678:4824:9126           K          E       368\n",
       "89  A00405:272:HJ7FVDSXY:3:2678:27245:25003           L          H       371\n",
       "90  A00405:272:HJ7FVDSXY:3:2678:25183:23218           Q          R       398"
      ]
     },
     "execution_count": 111,
     "metadata": {},
     "output_type": "execute_result"
    }
   ],
   "source": [
    "df_single_indexed.head()"
   ]
  },
  {
   "cell_type": "markdown",
   "metadata": {},
   "source": [
    "## Plotting relative frequency of single mutants."
   ]
  },
  {
   "cell_type": "code",
   "execution_count": 119,
   "metadata": {},
   "outputs": [
    {
     "data": {
      "text/plain": [
       "Text(0.5, 1.0, 'Frequency of Single mutations in CRY2(535) Consitutive Screen in 10,000 subsample (joined, QCed)')"
      ]
     },
     "execution_count": 119,
     "metadata": {},
     "output_type": "execute_result"
    },
    {
     "data": {
      "image/png": "[encoded data removed]",
      "text/plain": [
       "<Figure size 1296x360 with 1 Axes>"
      ]
     },
     "metadata": {
      "needs_background": "light"
     },
     "output_type": "display_data"
    }
   ],
   "source": [
    "test = df_single_indexed[0:1000]\n",
    "test['position'].value_counts().plot.bar(figsize=(18,5))\n",
    "plt.ylabel(\"frequency (counts)\")\n",
    "plt.xlabel(\"CRY2 amino acid position\")\n",
    "plt.title(\"Frequency of Single mutations in CRY2(535) Consitutive Screen in 10,000 subsample (joined, QCed)\")"
   ]
  },
  {
   "cell_type": "markdown",
   "metadata": {},
   "source": [
    "#### Can also look at these single mutants normalized to the most frequent value."
   ]
  },
  {
   "cell_type": "code",
   "execution_count": 342,
   "metadata": {},
   "outputs": [
    {
     "data": {
      "image/png": "[encoded data removed]",
      "text/plain": [
       "<Figure size 1296x360 with 1 Axes>"
      ]
     },
     "metadata": {
      "needs_background": "light"
     },
     "output_type": "display_data"
    }
   ],
   "source": [
    "max_val = max(test['position'].value_counts())\n",
    "\n",
    "norm_data = test['position'].value_counts()/max_val\n",
    "norm_plot = norm_data.plot.bar(figsize=(18,5))\n",
    "fig = norm_plot.get_figure()\n",
    "fig.savefig('normalized_frequencies_single_mutants.png') "
   ]
  },
  {
   "cell_type": "code",
   "execution_count": 232,
   "metadata": {},
   "outputs": [
    {
     "name": "stdout",
     "output_type": "stream",
     "text": [
      "  mutated_aa  count position\n",
      "0          F    195     L348\n",
      "1          H      1     L348\n"
     ]
    }
   ],
   "source": [
    "print(df348count)"
   ]
  },
  {
   "cell_type": "markdown",
   "metadata": {},
   "source": [
    "### Now, we can make a table giving the counts of each specific substitution at a given position."
   ]
  },
  {
   "cell_type": "code",
   "execution_count": 322,
   "metadata": {},
   "outputs": [],
   "source": [
    "# Creating the first Dataframe using dictionary \n",
    "df_counts_final = df = pd.DataFrame({\"mutated_aa\":[], \n",
    "                         \"count\":[], \n",
    "                        \"position\": []})\n",
    "sorted_positions = test['position'].unique()\n",
    "sorted_positions.sort() # makes sure it orders from low to high amino acid position (useful for plotting later)\n",
    "for pos in sorted_positions: # get array of all unique positions that have amino acid substitutions\n",
    "    df_count = test[test['position'] == pos]['mutated_aa'].value_counts().reset_index()\n",
    "    df_count.columns = ['mutated_aa','count']\n",
    "    position = []\n",
    "    for index in df_count.index:\n",
    "        position.insert(index, str(ref_aa_seq[pos-314]+str(pos)))\n",
    "    df_count['position'] = position\n",
    "    df_counts_final = df_counts_final.append(df_count)\n",
    "df_counts_final = df_counts_final.reset_index(drop=True) "
   ]
  },
  {
   "cell_type": "code",
   "execution_count": 388,
   "metadata": {},
   "outputs": [
    {
     "data": {
      "text/html": [
       "<div>\n",
       "<style scoped>\n",
       "    .dataframe tbody tr th:only-of-type {\n",
       "        vertical-align: middle;\n",
       "    }\n",
       "\n",
       "    .dataframe tbody tr th {\n",
       "        vertical-align: top;\n",
       "    }\n",
       "\n",
       "    .dataframe thead th {\n",
       "        text-align: right;\n",
       "    }\n",
       "</style>\n",
       "<table border=\"1\" class=\"dataframe\">\n",
       "  <thead>\n",
       "    <tr style=\"text-align: right;\">\n",
       "      <th></th>\n",
       "      <th>mutated_aa</th>\n",
       "      <th>count</th>\n",
       "      <th>position</th>\n",
       "    </tr>\n",
       "  </thead>\n",
       "  <tbody>\n",
       "    <tr>\n",
       "      <th>0</th>\n",
       "      <td>S</td>\n",
       "      <td>1.0</td>\n",
       "      <td>F318</td>\n",
       "    </tr>\n",
       "    <tr>\n",
       "      <th>1</th>\n",
       "      <td>R</td>\n",
       "      <td>2.0</td>\n",
       "      <td>W321</td>\n",
       "    </tr>\n",
       "    <tr>\n",
       "      <th>2</th>\n",
       "      <td>G</td>\n",
       "      <td>1.0</td>\n",
       "      <td>W321</td>\n",
       "    </tr>\n",
       "    <tr>\n",
       "      <th>3</th>\n",
       "      <td>E</td>\n",
       "      <td>6.0</td>\n",
       "      <td>D322</td>\n",
       "    </tr>\n",
       "    <tr>\n",
       "      <th>4</th>\n",
       "      <td>G</td>\n",
       "      <td>3.0</td>\n",
       "      <td>D322</td>\n",
       "    </tr>\n",
       "  </tbody>\n",
       "</table>\n",
       "</div>"
      ],
      "text/plain": [
       "  mutated_aa  count position\n",
       "0          S    1.0     F318\n",
       "1          R    2.0     W321\n",
       "2          G    1.0     W321\n",
       "3          E    6.0     D322\n",
       "4          G    3.0     D322"
      ]
     },
     "execution_count": 388,
     "metadata": {},
     "output_type": "execute_result"
    }
   ],
   "source": [
    "df_counts_final.head()"
   ]
  },
  {
   "cell_type": "code",
   "execution_count": 345,
   "metadata": {},
   "outputs": [
    {
     "data": {
      "text/plain": [
       "1.0"
      ]
     },
     "execution_count": 345,
     "metadata": {},
     "output_type": "execute_result"
    }
   ],
   "source": [
    "df_counts_final.at[0,'count']"
   ]
  },
  {
   "cell_type": "code",
   "execution_count": 349,
   "metadata": {},
   "outputs": [],
   "source": [
    "# don't just go through by index. Go through by list of unique values in \"read_ID\"\n",
    "df_thresh = df_counts_final.copy()\n",
    "for ind in df_thresh.index:\n",
    "    if df_thresh.at[ind, 'count'] < 10:\n",
    "        df_thresh = df_thresh[df_thresh.index != ind] # cuts out those with read_number = val\n",
    "df_thresh\n",
    "df_thresh.to_csv('10000subsample_singlemuts_above10.csv')"
   ]
  },
  {
   "cell_type": "code",
   "execution_count": 340,
   "metadata": {},
   "outputs": [],
   "source": [
    "dfmatrix = pd.DataFrame({'amino_acid': df_counts_final['mutated_aa'].unique().tolist()})\n",
    "dfmatrix.set_index('amino_acid', inplace=True)\n",
    "new_cols = df_counts_final['position'].unique().tolist()\n",
    "dfmatrix = dfmatrix.reindex(columns = new_cols) \n",
    "for ind in dfmatrix.index: # start full of zeros, then we'll add in the counts next\n",
    "    for col in dfmatrix.columns:\n",
    "        dfmatrix.at[ind, col] = 0\n",
    "        \n",
    "for ind in df_counts_final.index: # adding in the counts! :) \n",
    "    mut_aa = df_counts_final.at[ind, 'mutated_aa']\n",
    "    position = df_counts_final.at[ind, 'position']\n",
    "    count = df_counts_final.at[ind, 'count']\n",
    "    dfmatrix.at[mut_aa, position] = count\n",
    "dfmatrix.to_csv('10000subsample_matrix.csv')"
   ]
  },
  {
   "cell_type": "code",
   "execution_count": 343,
   "metadata": {},
   "outputs": [
    {
     "data": {
      "image/png": "[encoded data removed]",
      "text/plain": [
       "<Figure size 2160x1080 with 2 Axes>"
      ]
     },
     "metadata": {
      "needs_background": "light"
     },
     "output_type": "display_data"
    }
   ],
   "source": [
    "import numpy as np \n",
    "from pandas import DataFrame\n",
    "import seaborn as sns\n",
    "%matplotlib inline\n",
    "\n",
    "plt.figure(figsize = (30,15))\n",
    "sns.set(font_scale=1.4)\n",
    "plot = sns.heatmap(dfmatrix, annot=True)\n",
    "fig = plot.get_figure()\n",
    "fig.savefig('heat_map_mutants.png') "
   ]
  },
  {
   "cell_type": "code",
   "execution_count": null,
   "metadata": {},
   "outputs": [],
   "source": []
  },
  {
   "cell_type": "code",
   "execution_count": null,
   "metadata": {},
   "outputs": [],
   "source": []
  },
  {
   "cell_type": "code",
   "execution_count": null,
   "metadata": {},
   "outputs": [],
   "source": []
  },
  {
   "cell_type": "code",
   "execution_count": null,
   "metadata": {},
   "outputs": [],
   "source": []
  },
  {
   "cell_type": "code",
   "execution_count": null,
   "metadata": {},
   "outputs": [],
   "source": []
  },
  {
   "cell_type": "code",
   "execution_count": 121,
   "metadata": {},
   "outputs": [],
   "source": [
    "df_348 = test[test['position'] == 348]\n",
    "df348count = df_348['mutated_aa'].value_counts().reset_index()\n",
    "df348count.columns = ['mutated_aa','count']\n",
    "\n",
    "# add a column keeping the information about the site # and original amino acid\n",
    "position = []\n",
    "for index in df348count.index:\n",
    "    position.insert(index, ref_aa_seq[348-314]+str(348))\n",
    "df348count['position'] = position # use 'position' as the column name and equate it to the list we just added to\n",
    "df348count"
   ]
  },
  {
   "cell_type": "code",
   "execution_count": 221,
   "metadata": {},
   "outputs": [
    {
     "data": {
      "text/html": [
       "<div>\n",
       "<style scoped>\n",
       "    .dataframe tbody tr th:only-of-type {\n",
       "        vertical-align: middle;\n",
       "    }\n",
       "\n",
       "    .dataframe tbody tr th {\n",
       "        vertical-align: top;\n",
       "    }\n",
       "\n",
       "    .dataframe thead th {\n",
       "        text-align: right;\n",
       "    }\n",
       "</style>\n",
       "<table border=\"1\" class=\"dataframe\">\n",
       "  <thead>\n",
       "    <tr style=\"text-align: right;\">\n",
       "      <th></th>\n",
       "      <th>mutated_aa</th>\n",
       "      <th>count</th>\n",
       "      <th>position</th>\n",
       "    </tr>\n",
       "  </thead>\n",
       "  <tbody>\n",
       "    <tr>\n",
       "      <th>0</th>\n",
       "      <td>F</td>\n",
       "      <td>195</td>\n",
       "      <td>L348</td>\n",
       "    </tr>\n",
       "    <tr>\n",
       "      <th>1</th>\n",
       "      <td>H</td>\n",
       "      <td>1</td>\n",
       "      <td>L348</td>\n",
       "    </tr>\n",
       "  </tbody>\n",
       "</table>\n",
       "</div>"
      ],
      "text/plain": [
       "  mutated_aa  count position\n",
       "0          F    195     L348\n",
       "1          H      1     L348"
      ]
     },
     "execution_count": 221,
     "metadata": {},
     "output_type": "execute_result"
    }
   ],
   "source": [
    "df_348 = test[test['position'] == 348]\n",
    "df348count = df_348['mutated_aa'].value_counts().reset_index()\n",
    "df348count.columns = ['mutated_aa','count']\n",
    "\n",
    "# add a column keeping the information about the site # and original amino acid\n",
    "position = []\n",
    "for index in df348count.index:\n",
    "    position.insert(index, ref_aa_seq[348-314]+str(348))\n",
    "df348count['position'] = position # use 'position' as the column name and equate it to the list we just added to\n",
    "df348count"
   ]
  },
  {
   "cell_type": "code",
   "execution_count": 224,
   "metadata": {},
   "outputs": [
    {
     "data": {
      "text/html": [
       "<div>\n",
       "<style scoped>\n",
       "    .dataframe tbody tr th:only-of-type {\n",
       "        vertical-align: middle;\n",
       "    }\n",
       "\n",
       "    .dataframe tbody tr th {\n",
       "        vertical-align: top;\n",
       "    }\n",
       "\n",
       "    .dataframe thead th {\n",
       "        text-align: right;\n",
       "    }\n",
       "</style>\n",
       "<table border=\"1\" class=\"dataframe\">\n",
       "  <thead>\n",
       "    <tr style=\"text-align: right;\">\n",
       "      <th></th>\n",
       "      <th>mutated_aa</th>\n",
       "      <th>count</th>\n",
       "      <th>position</th>\n",
       "    </tr>\n",
       "  </thead>\n",
       "  <tbody>\n",
       "    <tr>\n",
       "      <th>0</th>\n",
       "      <td>F</td>\n",
       "      <td>195.0</td>\n",
       "      <td>L348</td>\n",
       "    </tr>\n",
       "    <tr>\n",
       "      <th>1</th>\n",
       "      <td>H</td>\n",
       "      <td>1.0</td>\n",
       "      <td>L348</td>\n",
       "    </tr>\n",
       "    <tr>\n",
       "      <th>0</th>\n",
       "      <td>F</td>\n",
       "      <td>195.0</td>\n",
       "      <td>L348</td>\n",
       "    </tr>\n",
       "    <tr>\n",
       "      <th>1</th>\n",
       "      <td>H</td>\n",
       "      <td>1.0</td>\n",
       "      <td>L348</td>\n",
       "    </tr>\n",
       "  </tbody>\n",
       "</table>\n",
       "</div>"
      ],
      "text/plain": [
       "  mutated_aa  count position\n",
       "0          F  195.0     L348\n",
       "1          H    1.0     L348\n",
       "0          F  195.0     L348\n",
       "1          H    1.0     L348"
      ]
     },
     "execution_count": 224,
     "metadata": {},
     "output_type": "execute_result"
    }
   ],
   "source": [
    "df_counts_final.append(df348count).append(df348count)"
   ]
  },
  {
   "cell_type": "code",
   "execution_count": 231,
   "metadata": {},
   "outputs": [
    {
     "name": "stdout",
     "output_type": "stream",
     "text": [
      "  mutated_aa  count position\n",
      "0          F    195     L348\n",
      "1          H      1     L348\n"
     ]
    }
   ],
   "source": [
    "print(df348count)"
   ]
  },
  {
   "cell_type": "code",
   "execution_count": 125,
   "metadata": {},
   "outputs": [
    {
     "data": {
      "text/plain": [
       "F    195\n",
       "H      1\n",
       "Name: mutated_aa, dtype: int64"
      ]
     },
     "execution_count": 125,
     "metadata": {},
     "output_type": "execute_result"
    }
   ],
   "source": [
    "df_348['mutated_aa'].value_counts()\n",
    "\n",
    "# initialize list of lists \n",
    "data = [['tom', 10], ['nick', 15], ['juli', 14]] \n",
    "  \n",
    "# Create the pandas DataFrame \n",
    "df = pd.DataFrame(data, columns = ['Name', 'Age']) "
   ]
  },
  {
   "cell_type": "code",
   "execution_count": 122,
   "metadata": {},
   "outputs": [
    {
     "data": {
      "text/plain": [
       "Text(0.5, 1.0, 'Frequency of various amino acid mutations at 348 normalized to all single mutations at site')"
      ]
     },
     "execution_count": 122,
     "metadata": {},
     "output_type": "execute_result"
    },
    {
     "data": {
      "image/png": "[encoded data removed]",
      "text/plain": [
       "<Figure size 1296x360 with 1 Axes>"
      ]
     },
     "metadata": {
      "needs_background": "light"
     },
     "output_type": "display_data"
    }
   ],
   "source": [
    "df_348['mutated_aa'].value_counts().plot.bar(figsize=(18,5))\n",
    "\n",
    "plt.ylabel(\"frequency\")\n",
    "plt.xlabel(\"Amino acid mutation\")\n",
    "plt.title(\"Frequency of various amino acid mutations at 348 normalized to all single mutations at site\")"
   ]
  },
  {
   "cell_type": "code",
   "execution_count": null,
   "metadata": {},
   "outputs": [],
   "source": []
  },
  {
   "cell_type": "code",
   "execution_count": 123,
   "metadata": {},
   "outputs": [
    {
     "data": {
      "text/plain": [
       "F    195\n",
       "H      1\n",
       "Name: mutated_aa, dtype: int64"
      ]
     },
     "execution_count": 123,
     "metadata": {},
     "output_type": "execute_result"
    }
   ],
   "source": [
    "df_348['mutated_aa'].value_counts()"
   ]
  },
  {
   "cell_type": "code",
   "execution_count": null,
   "metadata": {},
   "outputs": [],
   "source": [
    "test = df_double_indexed[0:1000]\n",
    "test['position'].value_counts().plot.bar(figsize=(18,5))\n",
    "plt.ylabel(\"frequency (counts)\")\n",
    "plt.xlabel(\"CRY2 amino acid position\")\n",
    "plt.title(\"Frequency of Double mutations in CRY2(535) Consitutive Screen in 10,000 subsample (joined, QCed)\")"
   ]
  }
 ],
 "metadata": {
  "kernelspec": {
   "display_name": "Python 3",
   "language": "python",
   "name": "python3"
  },
  "language_info": {
   "codemirror_mode": {
    "name": "ipython",
    "version": 3
   },
   "file_extension": ".py",
   "mimetype": "text/x-python",
   "name": "python",
   "nbconvert_exporter": "python",
   "pygments_lexer": "ipython3",
   "version": "3.8.5"
  }
 },
 "nbformat": 4,
 "nbformat_minor": 4
}
